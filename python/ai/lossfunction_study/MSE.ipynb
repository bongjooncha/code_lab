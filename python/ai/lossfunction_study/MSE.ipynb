{
 "cells": [
  {
   "cell_type": "code",
   "execution_count": null,
   "metadata": {},
   "outputs": [],
   "source": [
    "import numpy as np\n",
    "import matplotlib.pyplot as plt\n",
    "from matplotlib.animation import FuncAnimation\n",
    "import pandas as pd\n",
    "\n",
    "# 공통 값\n",
    "np.random.seed(0)\n",
    "X = 2 * np.random.rand(100, 1)\n",
    "y = 4 + 3 * X + np.random.randn(100, 1)\n",
    "X_b = np.c_[np.ones((100, 1)), X]"
   ]
  },
  {
   "cell_type": "code",
   "execution_count": null,
   "metadata": {},
   "outputs": [],
   "source": [
    "# 설정 값\n",
    "lr = 0.01  # 학습률\n",
    "n_epochs = 1000  # 반복 횟수\n",
    "m = 100  # 샘플 개수\n",
    "\n",
    "#초기 theta 값\n",
    "start = np.random.randn(2, 1)  # 무작위 초기화"
   ]
  },
  {
   "cell_type": "markdown",
   "metadata": {},
   "source": [
    "![mse 함수](./img/mse.png)"
   ]
  },
  {
   "cell_type": "code",
   "execution_count": null,
   "metadata": {},
   "outputs": [],
   "source": [
    "# MSE\n",
    "theta_mse = start.copy()\n",
    "theta_mse_path = []\n",
    "\n",
    "for iteration in range(n_epochs):  # 1회 반복 당 시행되는 과정\n",
    "    gradients = 2/m * X_b.T.dot(X_b.dot(theta_mse) - y)\n",
    "    theta_mse = theta_mse - lr * gradients\n",
    "    theta_mse_path.append(theta_mse)\n",
    "    \n",
    "theta_mse_path = np.array(theta_mse_path)"
   ]
  }
 ],
 "metadata": {
  "language_info": {
   "name": "python"
  }
 },
 "nbformat": 4,
 "nbformat_minor": 2
}
