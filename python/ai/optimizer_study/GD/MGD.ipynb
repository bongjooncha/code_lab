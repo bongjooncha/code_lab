{
 "cells": [
  {
   "cell_type": "markdown",
   "metadata": {},
   "source": [
    "<h1>MGD(Mini Batch Gradient Desent)</h1>"
   ]
  },
  {
   "cell_type": "markdown",
   "metadata": {},
   "source": [
    "아래는 변수 설정은 BGD와 동일 "
   ]
  },
  {
   "cell_type": "code",
   "execution_count": 27,
   "metadata": {},
   "outputs": [],
   "source": [
    "import numpy as np\n",
    "\n",
    "# 가상의 데이터 생성\n",
    "np.random.seed(42)    \n",
    "\n",
    "X = 2 * np.random.rand(100, 1) \n",
    "y = 4 + 3 * X + np.random.randn(100, 1) \n",
    "\n",
    "X_b = np.c_[np.ones((100, 1)), X]"
   ]
  },
  {
   "cell_type": "markdown",
   "metadata": {},
   "source": [
    "| lr | n_epochs | m | batch_size |\n",
    "|-----|--------------|---|----|\n",
    "|학습률| 반복횟수(몇 번의 epoch이 진행될 것인지 의미) | 학습에 사용된 샘플 수| 배치 사이즈 |"
   ]
  },
  {
   "cell_type": "code",
   "execution_count": 28,
   "metadata": {},
   "outputs": [],
   "source": [
    "# 초기값 설정\n",
    "lr = 0.1\n",
    "n_epochs = 1000\n",
    "m = 100 \n",
    "batch_size = 10"
   ]
  },
  {
   "cell_type": "markdown",
   "metadata": {},
   "source": [
    "theta_mgd는 mgd가 찾고자하는 변수이다. 현재 2개의 변수를 찾아야 하기에 랜덤한 숫자로 만들어지 2 x 1 배열을 생성한다."
   ]
  },
  {
   "cell_type": "code",
   "execution_count": 29,
   "metadata": {},
   "outputs": [],
   "source": [
    "theta_mgd = np.random.randn(2, 1)\n",
    "theta_mgd_path = []"
   ]
  },
  {
   "cell_type": "markdown",
   "metadata": {},
   "source": [
    "mgd의 경우 한번의 iteration 마다 샘플을 여러개의 mini batch로 나눈 뒤 각각을 계산한다.\n",
    "\n",
    "shuffled_indices는 np.random.permutation(m)를 통해 변수의 갯수와 동일한 수를 무작위로 나열한다.\n",
    "이후 X_b_shuffled, y_shuffled 변수에 X_b와 y를 [shuffled_indices]에 맞게 데이터 셔플링을 한 배열을 저장한다.\n",
    "\n",
    "이후 batch size에 맞게 계산을 한다. 미니 배치로 한번 계산할 때마다 gradient를 계산한다. 이 코드에서는 100개의 데이터를 10개로 나눴기에 한번의 iteration 동안 10번의 gradient 조정이 일어난다."
   ]
  },
  {
   "cell_type": "code",
   "execution_count": 30,
   "metadata": {},
   "outputs": [
    {
     "name": "stdout",
     "output_type": "stream",
     "text": [
      "[[[1.19661328]\n",
      "  [2.83618791]]\n",
      "\n",
      " [[1.72475134]\n",
      "  [3.22747892]]\n",
      "\n",
      " [[2.07559728]\n",
      "  [3.57596146]]\n",
      "\n",
      " ...\n",
      "\n",
      " [[4.27933078]\n",
      "  [2.86389747]]\n",
      "\n",
      " [[4.18641473]\n",
      "  [2.72822743]]\n",
      "\n",
      " [[4.24302491]\n",
      "  [2.8040117 ]]]\n"
     ]
    }
   ],
   "source": [
    "for n_epoch in range(n_epochs):\n",
    "    i = np.random.randint(m)\n",
    "    shuffled_indices = np.random.permutation(m)\n",
    "    X_b_shuffled = X_b[shuffled_indices]\n",
    "    y_shuffled = y[shuffled_indices]\n",
    "    xi = X_b_shuffled[i:i+batch_size]\n",
    "    yi = y_shuffled[i:i+batch_size]\n",
    "    gradients = 2/batch_size * xi.T.dot(xi.dot(theta_mgd) - yi)\n",
    "    theta_mgd = theta_mgd - lr * gradients\n",
    "    theta_mgd_path.append(theta_mgd)\n",
    "\n",
    "theta_mgd_path = np.array(theta_mgd_path)"
   ]
  }
 ],
 "metadata": {
  "kernelspec": {
   "display_name": "venv",
   "language": "python",
   "name": "python3"
  },
  "language_info": {
   "codemirror_mode": {
    "name": "ipython",
    "version": 3
   },
   "file_extension": ".py",
   "mimetype": "text/x-python",
   "name": "python",
   "nbconvert_exporter": "python",
   "pygments_lexer": "ipython3",
   "version": "3.11.4"
  }
 },
 "nbformat": 4,
 "nbformat_minor": 2
}
