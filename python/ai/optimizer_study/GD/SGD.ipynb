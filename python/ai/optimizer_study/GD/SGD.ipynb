{
 "cells": [
  {
   "cell_type": "markdown",
   "metadata": {},
   "source": [
    "<h1>SGD</h1>"
   ]
  },
  {
   "cell_type": "markdown",
   "metadata": {},
   "source": [
    "아래는 변수 설정은 BGD와 동일 "
   ]
  },
  {
   "cell_type": "code",
   "execution_count": 14,
   "metadata": {},
   "outputs": [],
   "source": [
    "import numpy as np\n",
    "\n",
    "# 가상의 데이터 생성\n",
    "np.random.seed(42)    \n",
    "\n",
    "X = 2 * np.random.rand(100, 1) \n",
    "y = 4 + 3 * X + np.random.randn(100, 1) \n",
    "\n",
    "X_b = np.c_[np.ones((100, 1)), X]"
   ]
  },
  {
   "cell_type": "markdown",
   "metadata": {},
   "source": [
    "| lr | n_epochs | m |\n",
    "|-----|--------------|---|\n",
    "|학습률| 전체 데이터를 몇 번의 볼것인지 | 학습에 사용된 샘플 수|\n",
    "\n"
   ]
  },
  {
   "cell_type": "code",
   "execution_count": 16,
   "metadata": {},
   "outputs": [],
   "source": [
    "# 초기값 설정\n",
    "lr = 0.1\n",
    "n_epochs = 1000\n",
    "m = 100"
   ]
  },
  {
   "cell_type": "markdown",
   "metadata": {},
   "source": [
    "theta_sgd는 sgd가 찾고자하는 변수이다. 현재 2개의 변수를 찾아야 하기에 랜덤한 숫자로 만들어지 2 x 1 배열을 생성한다."
   ]
  },
  {
   "cell_type": "code",
   "execution_count": 18,
   "metadata": {},
   "outputs": [],
   "source": [
    "theta_sgd = np.random.randn(2, 1) \n",
    "theta_sgd_path = []"
   ]
  },
  {
   "cell_type": "markdown",
   "metadata": {},
   "source": [
    "SGD의 경우는 오직 1개의 변수만을 가지고 기울기를 수정한다. 따라서 데이터의 수에 따라 기울기 갱신 횟수는 증가한다."
   ]
  },
  {
   "cell_type": "code",
   "execution_count": 19,
   "metadata": {},
   "outputs": [
    {
     "name": "stdout",
     "output_type": "stream",
     "text": [
      "[[[0.96804447]\n",
      "  [2.43576565]]\n",
      "\n",
      " [[1.40013784]\n",
      "  [2.74406714]]\n",
      "\n",
      " [[1.93673966]\n",
      "  [3.30506592]]\n",
      "\n",
      " ...\n",
      "\n",
      " [[4.19145627]\n",
      "  [2.73416771]]\n",
      "\n",
      " [[4.18978391]\n",
      "  [2.73378016]]\n",
      "\n",
      " [[4.19000137]\n",
      "  [2.73381258]]]\n"
     ]
    }
   ],
   "source": [
    "for epoch in range(n_epochs):\n",
    "    random_index = np.random.randint(m)\n",
    "    xi = X_b[random_index:random_index+1]\n",
    "    yi = y[random_index:random_index+1]\n",
    "    gradients = 2 * xi.T.dot(xi.dot(theta_sgd) - yi)\n",
    "    theta_sgd = theta_sgd - lr * gradients\n",
    "    theta_sgd_path.append(theta_sgd)\n",
    "\n",
    "theta_sgd_path = np.array(theta_sgd_path)"
   ]
  }
 ],
 "metadata": {
  "kernelspec": {
   "display_name": "venv",
   "language": "python",
   "name": "python3"
  },
  "language_info": {
   "codemirror_mode": {
    "name": "ipython",
    "version": 3
   },
   "file_extension": ".py",
   "mimetype": "text/x-python",
   "name": "python",
   "nbconvert_exporter": "python",
   "pygments_lexer": "ipython3",
   "version": "3.11.4"
  }
 },
 "nbformat": 4,
 "nbformat_minor": 2
}
